{
 "cells": [
  {
   "cell_type": "code",
   "execution_count": 3,
   "metadata": {},
   "outputs": [],
   "source": [
    "import pandas as pd\n",
    "import pickle"
   ]
  },
  {
   "cell_type": "code",
   "execution_count": 4,
   "metadata": {},
   "outputs": [
    {
     "data": {
      "text/html": [
       "<div>\n",
       "<style scoped>\n",
       "    .dataframe tbody tr th:only-of-type {\n",
       "        vertical-align: middle;\n",
       "    }\n",
       "\n",
       "    .dataframe tbody tr th {\n",
       "        vertical-align: top;\n",
       "    }\n",
       "\n",
       "    .dataframe thead th {\n",
       "        text-align: right;\n",
       "    }\n",
       "</style>\n",
       "<table border=\"1\" class=\"dataframe\">\n",
       "  <thead>\n",
       "    <tr style=\"text-align: right;\">\n",
       "      <th></th>\n",
       "      <th>Pclass</th>\n",
       "      <th>Sex</th>\n",
       "      <th>Age</th>\n",
       "      <th>SibSp</th>\n",
       "      <th>Parch</th>\n",
       "      <th>Fare</th>\n",
       "      <th>Embarked</th>\n",
       "      <th>Survived</th>\n",
       "    </tr>\n",
       "  </thead>\n",
       "  <tbody>\n",
       "    <tr>\n",
       "      <th>0</th>\n",
       "      <td>-0.393652</td>\n",
       "      <td>-3.466664e-01</td>\n",
       "      <td>-0.474492</td>\n",
       "      <td>-0.485462</td>\n",
       "      <td>-0.386170</td>\n",
       "      <td>0.609696</td>\n",
       "      <td>0.767649</td>\n",
       "      <td>0</td>\n",
       "    </tr>\n",
       "    <tr>\n",
       "      <th>1</th>\n",
       "      <td>0.814452</td>\n",
       "      <td>2.768752e-16</td>\n",
       "      <td>-0.474492</td>\n",
       "      <td>-0.485462</td>\n",
       "      <td>-0.493229</td>\n",
       "      <td>-1.901150</td>\n",
       "      <td>0.767649</td>\n",
       "      <td>0</td>\n",
       "    </tr>\n",
       "    <tr>\n",
       "      <th>2</th>\n",
       "      <td>0.814452</td>\n",
       "      <td>-9.701339e-01</td>\n",
       "      <td>2.810045</td>\n",
       "      <td>1.934079</td>\n",
       "      <td>-0.489252</td>\n",
       "      <td>0.609696</td>\n",
       "      <td>-1.302678</td>\n",
       "      <td>1</td>\n",
       "    </tr>\n",
       "    <tr>\n",
       "      <th>3</th>\n",
       "      <td>0.814452</td>\n",
       "      <td>-7.363336e-01</td>\n",
       "      <td>-0.474492</td>\n",
       "      <td>-0.485462</td>\n",
       "      <td>-0.568721</td>\n",
       "      <td>-1.499415</td>\n",
       "      <td>0.767649</td>\n",
       "      <td>1</td>\n",
       "    </tr>\n",
       "    <tr>\n",
       "      <th>4</th>\n",
       "      <td>-1.601756</td>\n",
       "      <td>1.445803e+00</td>\n",
       "      <td>0.346642</td>\n",
       "      <td>-0.485462</td>\n",
       "      <td>0.908274</td>\n",
       "      <td>-1.499415</td>\n",
       "      <td>0.767649</td>\n",
       "      <td>0</td>\n",
       "    </tr>\n",
       "  </tbody>\n",
       "</table>\n",
       "</div>"
      ],
      "text/plain": [
       "     Pclass           Sex       Age     SibSp     Parch      Fare  Embarked  \\\n",
       "0 -0.393652 -3.466664e-01 -0.474492 -0.485462 -0.386170  0.609696  0.767649   \n",
       "1  0.814452  2.768752e-16 -0.474492 -0.485462 -0.493229 -1.901150  0.767649   \n",
       "2  0.814452 -9.701339e-01  2.810045  1.934079 -0.489252  0.609696 -1.302678   \n",
       "3  0.814452 -7.363336e-01 -0.474492 -0.485462 -0.568721 -1.499415  0.767649   \n",
       "4 -1.601756  1.445803e+00  0.346642 -0.485462  0.908274 -1.499415  0.767649   \n",
       "\n",
       "   Survived  \n",
       "0         0  \n",
       "1         0  \n",
       "2         1  \n",
       "3         1  \n",
       "4         0  "
      ]
     },
     "execution_count": 4,
     "metadata": {},
     "output_type": "execute_result"
    }
   ],
   "source": [
    "dataset = pd.read_csv('../data/processed/features_for_model.csv')\n",
    "dataset.head()"
   ]
  },
  {
   "cell_type": "code",
   "execution_count": 5,
   "metadata": {},
   "outputs": [],
   "source": [
    "x_features = dataset.drop(['Survived'], axis=1)\n",
    "y_target = dataset['Survived']"
   ]
  },
  {
   "cell_type": "code",
   "execution_count": 6,
   "metadata": {},
   "outputs": [],
   "source": [
    "from sklearn.metrics import accuracy_score\n",
    "from sklearn.ensemble import RandomForestClassifier\n",
    "from sklearn.linear_model import LogisticRegression"
   ]
  },
  {
   "cell_type": "code",
   "execution_count": null,
   "metadata": {},
   "outputs": [],
   "source": [
    "rf_model = RandomForestClassifier().fit(x_features, y_target)\n",
    "rf_preds = rf_model.predict()"
   ]
  }
 ],
 "metadata": {
  "kernelspec": {
   "display_name": "venv-churning-model",
   "language": "python",
   "name": "python3"
  },
  "language_info": {
   "codemirror_mode": {
    "name": "ipython",
    "version": 3
   },
   "file_extension": ".py",
   "mimetype": "text/x-python",
   "name": "python",
   "nbconvert_exporter": "python",
   "pygments_lexer": "ipython3",
   "version": "3.12.2"
  }
 },
 "nbformat": 4,
 "nbformat_minor": 2
}
